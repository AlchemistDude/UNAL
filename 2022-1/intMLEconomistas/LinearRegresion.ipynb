{
 "cells": [
  {
   "cell_type": "markdown",
   "id": "da300648-85a3-4dbd-8e7b-8d4c82f20731",
   "metadata": {},
   "source": [
    "# Contenido\n",
    "\n",
    "1. Dependencias\n",
    "2. Datos\n",
    "3. Modelo"
   ]
  },
  {
   "cell_type": "markdown",
   "id": "87ed9975-0515-47ad-822c-204df82f6969",
   "metadata": {
    "tags": []
   },
   "source": [
    "### 1. Dependencias"
   ]
  },
  {
   "cell_type": "code",
   "execution_count": 54,
   "id": "d514d28e-abd5-4717-ade6-f770b82abc11",
   "metadata": {},
   "outputs": [],
   "source": [
    "import pandas as pd\n",
    "import numpy as np\n",
    "import matplotlib.pyplot as plt\n",
    "import seaborn as sns\n",
    "from scipy import stats\n",
    "\n",
    "from sklearn.model_selection import train_test_split\n",
    "from sklearn.linear_model import LinearRegression\n",
    "from sklearn.metrics import r2_score,mean_squared_error,mean_absolute_error\n",
    "from sklearn.preprocessing import PolynomialFeatures\n"
   ]
  },
  {
   "cell_type": "markdown",
   "id": "8ada0037-98b7-4870-9376-f03eb82bd0a4",
   "metadata": {},
   "source": [
    "### 2.Datos"
   ]
  },
  {
   "cell_type": "code",
   "execution_count": 7,
   "id": "53a74a66-c141-4e5c-896f-58944c23fa02",
   "metadata": {},
   "outputs": [
    {
     "data": {
      "text/html": [
       "<div>\n",
       "<style scoped>\n",
       "    .dataframe tbody tr th:only-of-type {\n",
       "        vertical-align: middle;\n",
       "    }\n",
       "\n",
       "    .dataframe tbody tr th {\n",
       "        vertical-align: top;\n",
       "    }\n",
       "\n",
       "    .dataframe thead th {\n",
       "        text-align: right;\n",
       "    }\n",
       "</style>\n",
       "<table border=\"1\" class=\"dataframe\">\n",
       "  <thead>\n",
       "    <tr style=\"text-align: right;\">\n",
       "      <th></th>\n",
       "      <th>Trimestre</th>\n",
       "      <th>LY_CO</th>\n",
       "      <th>LPC_CO</th>\n",
       "      <th>RS_CO</th>\n",
       "      <th>LS_CO</th>\n",
       "      <th>U_CO</th>\n",
       "    </tr>\n",
       "  </thead>\n",
       "  <tbody>\n",
       "    <tr>\n",
       "      <th>0</th>\n",
       "      <td>1994-Q1</td>\n",
       "      <td>NaN</td>\n",
       "      <td>NaN</td>\n",
       "      <td>NaN</td>\n",
       "      <td>670.870660</td>\n",
       "      <td>NaN</td>\n",
       "    </tr>\n",
       "    <tr>\n",
       "      <th>1</th>\n",
       "      <td>1994-Q2</td>\n",
       "      <td>NaN</td>\n",
       "      <td>NaN</td>\n",
       "      <td>NaN</td>\n",
       "      <td>670.886522</td>\n",
       "      <td>NaN</td>\n",
       "    </tr>\n",
       "    <tr>\n",
       "      <th>2</th>\n",
       "      <td>1994-Q3</td>\n",
       "      <td>NaN</td>\n",
       "      <td>NaN</td>\n",
       "      <td>NaN</td>\n",
       "      <td>673.578001</td>\n",
       "      <td>NaN</td>\n",
       "    </tr>\n",
       "    <tr>\n",
       "      <th>3</th>\n",
       "      <td>1994-Q4</td>\n",
       "      <td>NaN</td>\n",
       "      <td>NaN</td>\n",
       "      <td>NaN</td>\n",
       "      <td>672.295465</td>\n",
       "      <td>NaN</td>\n",
       "    </tr>\n",
       "    <tr>\n",
       "      <th>4</th>\n",
       "      <td>1995-Q1</td>\n",
       "      <td>NaN</td>\n",
       "      <td>317.040046</td>\n",
       "      <td>NaN</td>\n",
       "      <td>678.018324</td>\n",
       "      <td>NaN</td>\n",
       "    </tr>\n",
       "  </tbody>\n",
       "</table>\n",
       "</div>"
      ],
      "text/plain": [
       "  Trimestre  LY_CO      LPC_CO  RS_CO       LS_CO  U_CO\n",
       "0   1994-Q1    NaN         NaN    NaN  670.870660   NaN\n",
       "1   1994-Q2    NaN         NaN    NaN  670.886522   NaN\n",
       "2   1994-Q3    NaN         NaN    NaN  673.578001   NaN\n",
       "3   1994-Q4    NaN         NaN    NaN  672.295465   NaN\n",
       "4   1995-Q1    NaN  317.040046    NaN  678.018324   NaN"
      ]
     },
     "execution_count": 7,
     "metadata": {},
     "output_type": "execute_result"
    }
   ],
   "source": [
    "df = pd.read_excel(\"Datos.xlsx\")\n",
    "df.head()"
   ]
  },
  {
   "cell_type": "markdown",
   "id": "931ee180-7324-4e1e-b963-dfdcb5b8d5a4",
   "metadata": {},
   "source": [
    "- indice pib\n",
    "- indice precios al consumidor\n",
    "- tasa politica monetaria\n",
    "- tasa de cambia\n",
    "- tasa de desempelo -> variable dependiente"
   ]
  },
  {
   "cell_type": "code",
   "execution_count": 8,
   "id": "4c24d3cd-01da-40e4-8d74-5ca5e568ef5f",
   "metadata": {},
   "outputs": [
    {
     "data": {
      "text/plain": [
       "Trimestre    0\n",
       "LY_CO        9\n",
       "LPC_CO       4\n",
       "RS_CO        5\n",
       "LS_CO        0\n",
       "U_CO         8\n",
       "dtype: int64"
      ]
     },
     "execution_count": 8,
     "metadata": {},
     "output_type": "execute_result"
    }
   ],
   "source": [
    "#Datos nulos\n",
    "\n",
    "df.isna().sum()"
   ]
  },
  {
   "cell_type": "code",
   "execution_count": 10,
   "id": "1a989fb4-fc42-4362-85e4-41f2cc9a5712",
   "metadata": {},
   "outputs": [
    {
     "data": {
      "text/html": [
       "<div>\n",
       "<style scoped>\n",
       "    .dataframe tbody tr th:only-of-type {\n",
       "        vertical-align: middle;\n",
       "    }\n",
       "\n",
       "    .dataframe tbody tr th {\n",
       "        vertical-align: top;\n",
       "    }\n",
       "\n",
       "    .dataframe thead th {\n",
       "        text-align: right;\n",
       "    }\n",
       "</style>\n",
       "<table border=\"1\" class=\"dataframe\">\n",
       "  <thead>\n",
       "    <tr style=\"text-align: right;\">\n",
       "      <th></th>\n",
       "      <th>Trimestre</th>\n",
       "      <th>LY_CO</th>\n",
       "      <th>LPC_CO</th>\n",
       "      <th>RS_CO</th>\n",
       "      <th>LS_CO</th>\n",
       "      <th>U_CO</th>\n",
       "    </tr>\n",
       "  </thead>\n",
       "  <tbody>\n",
       "    <tr>\n",
       "      <th>8</th>\n",
       "      <td>1996-Q1</td>\n",
       "      <td>395.368943</td>\n",
       "      <td>336.522682</td>\n",
       "      <td>35.00</td>\n",
       "      <td>695.503955</td>\n",
       "      <td>9.341077</td>\n",
       "    </tr>\n",
       "    <tr>\n",
       "      <th>9</th>\n",
       "      <td>1996-Q2</td>\n",
       "      <td>395.805800</td>\n",
       "      <td>341.766285</td>\n",
       "      <td>35.00</td>\n",
       "      <td>697.516156</td>\n",
       "      <td>10.140892</td>\n",
       "    </tr>\n",
       "    <tr>\n",
       "      <th>10</th>\n",
       "      <td>1996-Q3</td>\n",
       "      <td>396.163133</td>\n",
       "      <td>346.723151</td>\n",
       "      <td>35.00</td>\n",
       "      <td>693.250643</td>\n",
       "      <td>11.439276</td>\n",
       "    </tr>\n",
       "    <tr>\n",
       "      <th>11</th>\n",
       "      <td>1996-Q4</td>\n",
       "      <td>396.434825</td>\n",
       "      <td>351.522224</td>\n",
       "      <td>33.00</td>\n",
       "      <td>691.307112</td>\n",
       "      <td>11.544240</td>\n",
       "    </tr>\n",
       "    <tr>\n",
       "      <th>12</th>\n",
       "      <td>1997-Q1</td>\n",
       "      <td>396.161955</td>\n",
       "      <td>355.928620</td>\n",
       "      <td>28.50</td>\n",
       "      <td>696.591097</td>\n",
       "      <td>11.231677</td>\n",
       "    </tr>\n",
       "    <tr>\n",
       "      <th>...</th>\n",
       "      <td>...</td>\n",
       "      <td>...</td>\n",
       "      <td>...</td>\n",
       "      <td>...</td>\n",
       "      <td>...</td>\n",
       "      <td>...</td>\n",
       "    </tr>\n",
       "    <tr>\n",
       "      <th>105</th>\n",
       "      <td>2020-Q2</td>\n",
       "      <td>452.504414</td>\n",
       "      <td>480.164741</td>\n",
       "      <td>2.75</td>\n",
       "      <td>823.188430</td>\n",
       "      <td>20.402384</td>\n",
       "    </tr>\n",
       "    <tr>\n",
       "      <th>106</th>\n",
       "      <td>2020-Q3</td>\n",
       "      <td>461.412993</td>\n",
       "      <td>480.526091</td>\n",
       "      <td>1.75</td>\n",
       "      <td>826.331720</td>\n",
       "      <td>17.607324</td>\n",
       "    </tr>\n",
       "    <tr>\n",
       "      <th>107</th>\n",
       "      <td>2020-Q4</td>\n",
       "      <td>467.282883</td>\n",
       "      <td>480.853275</td>\n",
       "      <td>1.75</td>\n",
       "      <td>814.104414</td>\n",
       "      <td>15.525437</td>\n",
       "    </tr>\n",
       "    <tr>\n",
       "      <th>108</th>\n",
       "      <td>2021-Q1</td>\n",
       "      <td>470.320393</td>\n",
       "      <td>481.391457</td>\n",
       "      <td>1.75</td>\n",
       "      <td>822.601435</td>\n",
       "      <td>14.118250</td>\n",
       "    </tr>\n",
       "    <tr>\n",
       "      <th>109</th>\n",
       "      <td>2021-Q2</td>\n",
       "      <td>468.027766</td>\n",
       "      <td>482.274385</td>\n",
       "      <td>1.75</td>\n",
       "      <td>823.128821</td>\n",
       "      <td>14.816380</td>\n",
       "    </tr>\n",
       "  </tbody>\n",
       "</table>\n",
       "<p>102 rows × 6 columns</p>\n",
       "</div>"
      ],
      "text/plain": [
       "    Trimestre       LY_CO      LPC_CO  RS_CO       LS_CO       U_CO\n",
       "8     1996-Q1  395.368943  336.522682  35.00  695.503955   9.341077\n",
       "9     1996-Q2  395.805800  341.766285  35.00  697.516156  10.140892\n",
       "10    1996-Q3  396.163133  346.723151  35.00  693.250643  11.439276\n",
       "11    1996-Q4  396.434825  351.522224  33.00  691.307112  11.544240\n",
       "12    1997-Q1  396.161955  355.928620  28.50  696.591097  11.231677\n",
       "..        ...         ...         ...    ...         ...        ...\n",
       "105   2020-Q2  452.504414  480.164741   2.75  823.188430  20.402384\n",
       "106   2020-Q3  461.412993  480.526091   1.75  826.331720  17.607324\n",
       "107   2020-Q4  467.282883  480.853275   1.75  814.104414  15.525437\n",
       "108   2021-Q1  470.320393  481.391457   1.75  822.601435  14.118250\n",
       "109   2021-Q2  468.027766  482.274385   1.75  823.128821  14.816380\n",
       "\n",
       "[102 rows x 6 columns]"
      ]
     },
     "execution_count": 10,
     "metadata": {},
     "output_type": "execute_result"
    }
   ],
   "source": [
    "#dataset final\n",
    "\n",
    "df.dropna(inplace=True)\n",
    "df"
   ]
  },
  {
   "cell_type": "code",
   "execution_count": 11,
   "id": "83e405d0-0c90-4eda-9605-2f49b6f94ae7",
   "metadata": {},
   "outputs": [
    {
     "data": {
      "text/plain": [
       "(102, 6)"
      ]
     },
     "execution_count": 11,
     "metadata": {},
     "output_type": "execute_result"
    }
   ],
   "source": [
    "df.shape"
   ]
  },
  {
   "cell_type": "code",
   "execution_count": 17,
   "id": "670618de-7909-491c-949c-39acd48503ba",
   "metadata": {},
   "outputs": [],
   "source": [
    "df.drop(columns=[\"Trimestre\"],inplace=True)"
   ]
  },
  {
   "cell_type": "code",
   "execution_count": 19,
   "id": "8c86c487-4344-449b-ac19-9851d10a21f1",
   "metadata": {},
   "outputs": [
    {
     "data": {
      "text/html": [
       "<div>\n",
       "<style scoped>\n",
       "    .dataframe tbody tr th:only-of-type {\n",
       "        vertical-align: middle;\n",
       "    }\n",
       "\n",
       "    .dataframe tbody tr th {\n",
       "        vertical-align: top;\n",
       "    }\n",
       "\n",
       "    .dataframe thead th {\n",
       "        text-align: right;\n",
       "    }\n",
       "</style>\n",
       "<table border=\"1\" class=\"dataframe\">\n",
       "  <thead>\n",
       "    <tr style=\"text-align: right;\">\n",
       "      <th></th>\n",
       "      <th>LY_CO</th>\n",
       "      <th>LPC_CO</th>\n",
       "      <th>RS_CO</th>\n",
       "      <th>LS_CO</th>\n",
       "      <th>U_CO</th>\n",
       "    </tr>\n",
       "  </thead>\n",
       "  <tbody>\n",
       "    <tr>\n",
       "      <th>8</th>\n",
       "      <td>395.368943</td>\n",
       "      <td>336.522682</td>\n",
       "      <td>35.0</td>\n",
       "      <td>695.503955</td>\n",
       "      <td>9.341077</td>\n",
       "    </tr>\n",
       "    <tr>\n",
       "      <th>9</th>\n",
       "      <td>395.805800</td>\n",
       "      <td>341.766285</td>\n",
       "      <td>35.0</td>\n",
       "      <td>697.516156</td>\n",
       "      <td>10.140892</td>\n",
       "    </tr>\n",
       "    <tr>\n",
       "      <th>10</th>\n",
       "      <td>396.163133</td>\n",
       "      <td>346.723151</td>\n",
       "      <td>35.0</td>\n",
       "      <td>693.250643</td>\n",
       "      <td>11.439276</td>\n",
       "    </tr>\n",
       "    <tr>\n",
       "      <th>11</th>\n",
       "      <td>396.434825</td>\n",
       "      <td>351.522224</td>\n",
       "      <td>33.0</td>\n",
       "      <td>691.307112</td>\n",
       "      <td>11.544240</td>\n",
       "    </tr>\n",
       "    <tr>\n",
       "      <th>12</th>\n",
       "      <td>396.161955</td>\n",
       "      <td>355.928620</td>\n",
       "      <td>28.5</td>\n",
       "      <td>696.591097</td>\n",
       "      <td>11.231677</td>\n",
       "    </tr>\n",
       "  </tbody>\n",
       "</table>\n",
       "</div>"
      ],
      "text/plain": [
       "         LY_CO      LPC_CO  RS_CO       LS_CO       U_CO\n",
       "8   395.368943  336.522682   35.0  695.503955   9.341077\n",
       "9   395.805800  341.766285   35.0  697.516156  10.140892\n",
       "10  396.163133  346.723151   35.0  693.250643  11.439276\n",
       "11  396.434825  351.522224   33.0  691.307112  11.544240\n",
       "12  396.161955  355.928620   28.5  696.591097  11.231677"
      ]
     },
     "execution_count": 19,
     "metadata": {},
     "output_type": "execute_result"
    }
   ],
   "source": [
    "df.head()"
   ]
  },
  {
   "cell_type": "code",
   "execution_count": 20,
   "id": "83af7b37-9d18-4a9b-acd1-321279f62c42",
   "metadata": {},
   "outputs": [
    {
     "data": {
      "text/plain": [
       "<seaborn.axisgrid.PairGrid at 0x7fc9e8a3e970>"
      ]
     },
     "execution_count": 20,
     "metadata": {},
     "output_type": "execute_result"
    },
    {
     "data": {
      "image/png": "[encoded data removed]",
      "text/plain": [
       "<Figure size 720x180 with 4 Axes>"
      ]
     },
     "metadata": {
      "needs_background": "light"
     },
     "output_type": "display_data"
    }
   ],
   "source": [
    "#Graficos de dispersión\n",
    "\n",
    "sns.pairplot(df,x_vars=[\"LY_CO\",\"LPC_CO\",\"RS_CO\",\"LS_CO\"],y_vars=\"U_CO\")"
   ]
  },
  {
   "cell_type": "code",
   "execution_count": 27,
   "id": "e9155084-f24c-4c97-8c04-d26034687d07",
   "metadata": {},
   "outputs": [
    {
     "data": {
      "text/html": [
       "<div>\n",
       "<style scoped>\n",
       "    .dataframe tbody tr th:only-of-type {\n",
       "        vertical-align: middle;\n",
       "    }\n",
       "\n",
       "    .dataframe tbody tr th {\n",
       "        vertical-align: top;\n",
       "    }\n",
       "\n",
       "    .dataframe thead th {\n",
       "        text-align: right;\n",
       "    }\n",
       "</style>\n",
       "<table border=\"1\" class=\"dataframe\">\n",
       "  <thead>\n",
       "    <tr style=\"text-align: right;\">\n",
       "      <th></th>\n",
       "      <th>LY_CO</th>\n",
       "      <th>LPC_CO</th>\n",
       "      <th>RS_CO</th>\n",
       "      <th>LS_CO</th>\n",
       "      <th>U_CO</th>\n",
       "    </tr>\n",
       "  </thead>\n",
       "  <tbody>\n",
       "    <tr>\n",
       "      <th>LY_CO</th>\n",
       "      <td>1.000000</td>\n",
       "      <td>0.924598</td>\n",
       "      <td>-0.644993</td>\n",
       "      <td>0.568730</td>\n",
       "      <td>-0.578655</td>\n",
       "    </tr>\n",
       "    <tr>\n",
       "      <th>LPC_CO</th>\n",
       "      <td>0.924598</td>\n",
       "      <td>1.000000</td>\n",
       "      <td>-0.859460</td>\n",
       "      <td>0.765641</td>\n",
       "      <td>-0.382275</td>\n",
       "    </tr>\n",
       "    <tr>\n",
       "      <th>RS_CO</th>\n",
       "      <td>-0.644993</td>\n",
       "      <td>-0.859460</td>\n",
       "      <td>1.000000</td>\n",
       "      <td>-0.752345</td>\n",
       "      <td>0.174544</td>\n",
       "    </tr>\n",
       "    <tr>\n",
       "      <th>LS_CO</th>\n",
       "      <td>0.568730</td>\n",
       "      <td>0.765641</td>\n",
       "      <td>-0.752345</td>\n",
       "      <td>1.000000</td>\n",
       "      <td>0.017752</td>\n",
       "    </tr>\n",
       "    <tr>\n",
       "      <th>U_CO</th>\n",
       "      <td>-0.578655</td>\n",
       "      <td>-0.382275</td>\n",
       "      <td>0.174544</td>\n",
       "      <td>0.017752</td>\n",
       "      <td>1.000000</td>\n",
       "    </tr>\n",
       "  </tbody>\n",
       "</table>\n",
       "</div>"
      ],
      "text/plain": [
       "           LY_CO    LPC_CO     RS_CO     LS_CO      U_CO\n",
       "LY_CO   1.000000  0.924598 -0.644993  0.568730 -0.578655\n",
       "LPC_CO  0.924598  1.000000 -0.859460  0.765641 -0.382275\n",
       "RS_CO  -0.644993 -0.859460  1.000000 -0.752345  0.174544\n",
       "LS_CO   0.568730  0.765641 -0.752345  1.000000  0.017752\n",
       "U_CO   -0.578655 -0.382275  0.174544  0.017752  1.000000"
      ]
     },
     "execution_count": 27,
     "metadata": {},
     "output_type": "execute_result"
    }
   ],
   "source": [
    "corr_matrix =df.corr(method=\"pearson\")\n",
    "corr_matrix"
   ]
  },
  {
   "cell_type": "code",
   "execution_count": 29,
   "id": "5f608fa7-b086-4389-8b18-aa4e17c4a406",
   "metadata": {},
   "outputs": [
    {
     "data": {
      "text/plain": [
       "<AxesSubplot:>"
      ]
     },
     "execution_count": 29,
     "metadata": {},
     "output_type": "execute_result"
    },
    {
     "data": {
      "image/png": "[encoded data removed]",
      "text/plain": [
       "<Figure size 432x288 with 2 Axes>"
      ]
     },
     "metadata": {
      "needs_background": "light"
     },
     "output_type": "display_data"
    }
   ],
   "source": [
    "sns.heatmap(corr_matrix,annot=True)"
   ]
  },
  {
   "cell_type": "markdown",
   "id": "44505662-1be0-4a4e-a2bd-722c8125224a",
   "metadata": {},
   "source": [
    "### 3.Modelo"
   ]
  },
  {
   "cell_type": "code",
   "execution_count": 31,
   "id": "f05cdc3b-1e7e-4c97-b620-fd7a5e5ccdd8",
   "metadata": {},
   "outputs": [],
   "source": [
    "#Declaracion de variables\n",
    "\n",
    "X = df.drop(columns=['U_CO'])\n",
    "y = df['U_CO']"
   ]
  },
  {
   "cell_type": "code",
   "execution_count": 38,
   "id": "74674abf-71d9-41f7-b983-c3c1a929c4d5",
   "metadata": {},
   "outputs": [],
   "source": [
    "# Particion de los datos\n",
    "\n",
    "X_train, X_test, y_train, y_test  = train_test_split(X,y, random_state=111, test_size=0.3)"
   ]
  },
  {
   "cell_type": "code",
   "execution_count": 39,
   "id": "da37e598-7fd3-405a-bb8d-d36df4948ac0",
   "metadata": {},
   "outputs": [
    {
     "data": {
      "text/plain": [
       "LinearRegression()"
      ]
     },
     "execution_count": 39,
     "metadata": {},
     "output_type": "execute_result"
    }
   ],
   "source": [
    "# Regresión Lineal\n",
    "\n",
    "linear_model = LinearRegression()\n",
    "linear_model.fit(X_train,y_train)"
   ]
  },
  {
   "cell_type": "code",
   "execution_count": 50,
   "id": "9cd9ce7f-7b84-4522-9579-74c6a3a495eb",
   "metadata": {},
   "outputs": [],
   "source": [
    "y_pred = linear_model.predict(X_test)"
   ]
  },
  {
   "cell_type": "code",
   "execution_count": 52,
   "id": "202c179b-5b0b-492d-ba05-09db18b19732",
   "metadata": {},
   "outputs": [
    {
     "data": {
      "text/plain": [
       "array([-0.217675  ,  0.17124439,  0.28356797,  0.01756902])"
      ]
     },
     "execution_count": 52,
     "metadata": {},
     "output_type": "execute_result"
    }
   ],
   "source": [
    "#coeficientes\n",
    "linear_model.coef_"
   ]
  },
  {
   "cell_type": "code",
   "execution_count": 53,
   "id": "b34a5d0b-ecf2-4677-8eee-443f0907fc5c",
   "metadata": {},
   "outputs": [
    {
     "data": {
      "text/plain": [
       "15.884667426594019"
      ]
     },
     "execution_count": 53,
     "metadata": {},
     "output_type": "execute_result"
    }
   ],
   "source": [
    "#intercepto\n",
    "linear_model.intercept_"
   ]
  },
  {
   "cell_type": "code",
   "execution_count": 60,
   "id": "e040fac0-6349-4dea-8c63-4a6e75ba4299",
   "metadata": {},
   "outputs": [
    {
     "name": "stdout",
     "output_type": "stream",
     "text": [
      "**** Coeficientes e intercepto del modelo ****\n",
      "Intercepto: 15.88\n",
      "LY_CO: -0.2177\n",
      "LPC_CO: 0.1712\n",
      "RS_CO: 0.2836\n",
      "LS_CO: 0.0176\n"
     ]
    }
   ],
   "source": [
    "print(\"**** Coeficientes e intercepto del modelo ****\")\n",
    "print(f\"Intercepto: {linear_model.intercept_:.4}\")\n",
    "print(f\"LY_CO: {linear_model.coef_[0]:.4f}\")\n",
    "print(f\"LPC_CO: {linear_model.coef_[1]:.4f}\")\n",
    "print(f\"RS_CO: {linear_model.coef_[2]:.4f}\")\n",
    "print(f\"LS_CO: {linear_model.coef_[3]:.4f}\")\n"
   ]
  },
  {
   "cell_type": "code",
   "execution_count": 67,
   "id": "34b90eca-e95a-4343-aec8-7cbee8faf395",
   "metadata": {},
   "outputs": [
    {
     "data": {
      "image/png": "[encoded data removed]",
      "text/plain": [
       "<Figure size 432x288 with 1 Axes>"
      ]
     },
     "metadata": {
      "needs_background": "light"
     },
     "output_type": "display_data"
    }
   ],
   "source": [
    "plt.plot(np.array(y_test),\"o\",linewidth=3, color=\"g\")\n",
    "plt.plot(y_pred,\"o\",linewidth=3,color=\"r\")\n",
    "plt.title(\"y_test vs y_pred\")\n",
    "plt.show()"
   ]
  },
  {
   "cell_type": "markdown",
   "id": "8e188b07-8e00-4d8f-a831-89297db51b68",
   "metadata": {},
   "source": [
    "### 4.Metricas de evaluación"
   ]
  },
  {
   "cell_type": "code",
   "execution_count": 73,
   "id": "63ded490-b730-42b4-a58d-e7fc0944c882",
   "metadata": {},
   "outputs": [
    {
     "name": "stdout",
     "output_type": "stream",
     "text": [
      "MSE: 1.553971181576765\n",
      "RMSE: 2.4148264331710867\n",
      "MAE: 1.1689610223998534\n",
      "R2: 0.6181447411123191\n"
     ]
    }
   ],
   "source": [
    "#MSE\n",
    "\n",
    "print(f\"MSE: {np.sqrt(mean_squared_error(y_test,y_pred))}\")\n",
    "print(f\"RMSE: {mean_squared_error(y_test,y_pred)}\")\n",
    "print(f\"MAE: {mean_absolute_error(y_test,y_pred)}\")\n",
    "print(f\"R2: {r2_score(y_test,y_pred)}\")"
   ]
  },
  {
   "cell_type": "code",
   "execution_count": 74,
   "id": "309886eb-02ff-4989-9a25-2f20183a930d",
   "metadata": {},
   "outputs": [
    {
     "data": {
      "text/plain": [
       "array([[1.00000000e+00, 3.95368943e+02, 3.36522682e+02, ...,\n",
       "        1.22500000e+03, 2.43426384e+04, 4.83725751e+05],\n",
       "       [1.00000000e+00, 3.95805800e+02, 3.41766285e+02, ...,\n",
       "        1.22500000e+03, 2.44130655e+04, 4.86528788e+05],\n",
       "       [1.00000000e+00, 3.96163133e+02, 3.46723151e+02, ...,\n",
       "        1.22500000e+03, 2.42637725e+04, 4.80596454e+05],\n",
       "       ...,\n",
       "       [1.00000000e+00, 4.67282883e+02, 4.80853275e+02, ...,\n",
       "        3.06250000e+00, 1.42468272e+03, 6.62765997e+05],\n",
       "       [1.00000000e+00, 4.70320393e+02, 4.81391457e+02, ...,\n",
       "        3.06250000e+00, 1.43955251e+03, 6.76673120e+05],\n",
       "       [1.00000000e+00, 4.68027766e+02, 4.82274385e+02, ...,\n",
       "        3.06250000e+00, 1.44047544e+03, 6.77541055e+05]])"
      ]
     },
     "execution_count": 74,
     "metadata": {},
     "output_type": "execute_result"
    }
   ],
   "source": [
    "transformation = PolynomialFeatures(degree=2)\n",
    "x_pol = transformation.fit_transform(X)\n",
    "x_pol"
   ]
  },
  {
   "cell_type": "code",
   "execution_count": null,
   "id": "9aa42b5b-3bb9-4b9c-81cf-fc55b6a95cd6",
   "metadata": {},
   "outputs": [],
   "source": []
  }
 ],
 "metadata": {
  "kernelspec": {
   "display_name": "Python 3 (ipykernel)",
   "language": "python",
   "name": "python3"
  },
  "language_info": {
   "codemirror_mode": {
    "name": "ipython",
    "version": 3
   },
   "file_extension": ".py",
   "mimetype": "text/x-python",
   "name": "python",
   "nbconvert_exporter": "python",
   "pygments_lexer": "ipython3",
   "version": "3.8.10"
  }
 },
 "nbformat": 4,
 "nbformat_minor": 5
}
